{
 "cells": [
  {
   "cell_type": "markdown",
   "metadata": {},
   "source": [
    "# Read Parquet File"
   ]
  },
  {
   "cell_type": "code",
   "execution_count": 1,
   "metadata": {},
   "outputs": [
    {
     "name": "stderr",
     "output_type": "stream",
     "text": [
      "23/11/27 21:06:28 WARN Utils: Your hostname, framework resolves to a loopback address: 127.0.1.1; using 10.0.0.72 instead (on interface wlp166s0)\n",
      "23/11/27 21:06:28 WARN Utils: Set SPARK_LOCAL_IP if you need to bind to another address\n",
      "Setting default log level to \"WARN\".\n",
      "To adjust logging level use sc.setLogLevel(newLevel). For SparkR, use setLogLevel(newLevel).\n",
      "23/11/27 21:06:28 WARN NativeCodeLoader: Unable to load native-hadoop library for your platform... using builtin-java classes where applicable\n"
     ]
    }
   ],
   "source": [
    "from pyspark.sql import SparkSession\n",
    "\n",
    "spark = SparkSession.builder.appName('Parquet').getOrCreate()"
   ]
  },
  {
   "cell_type": "code",
   "execution_count": 6,
   "metadata": {},
   "outputs": [
    {
     "name": "stdout",
     "output_type": "stream",
     "text": [
      "+---------+--------------------+-------------------+------------------+-----------------+-------------------+---------------+------------------+------------------+--------+-----------+----------+------------------+-----------------+\n",
      "|Device ID|           Timestamp|        Temperature|          Humidity|    Battery Level|    Signal Strength|Motion Detected|       Light Level|          Pressure|  Status|Event Count|Error Code|        Data Usage|__index_level_0__|\n",
      "+---------+--------------------+-------------------+------------------+-----------------+-------------------+---------------+------------------+------------------+--------+-----------+----------+------------------+-----------------+\n",
      "|     6044|2023-11-22 22:45:...|  8.420523869113495|49.498096162388116|37.43756832623355| -7.086238636930332|          False| 425.6648757729776| 929.1970875909897|  active|         56|         1|327.33723493258003|                0|\n",
      "|     8573|2023-11-22 23:28:...|  42.83490004701964| 3.974486585659154|43.13246954021037|-11.166073298517105|           True|40.322345956130825| 994.6527920719219|  active|         45|        99|481.50701521034284|                0|\n",
      "|     2970|2023-11-23 08:28:...| 44.098711022229296| 51.46054810240484| 2.74637966630018| -3.493190558846365|          False|328.57963791953534| 1017.082011960524|inactive|         45|         0|240.97331478080986|                0|\n",
      "|     6173|2023-11-23 09:28:...| 33.869480877801635|25.345437893275157|34.68825779319702|-11.726731307973552|           True|215.44103780624246|1020.2614934154766|inactive|         86|         0| 363.8500156208779|                0|\n",
      "|     4776|2023-11-23 10:28:...|-19.084090991274433| 98.53726487870672|44.84254146000569| -9.782865766654425|           True| 656.1544172558042| 975.2268365685118|inactive|         10|         0|142.55017517547924|                0|\n",
      "+---------+--------------------+-------------------+------------------+-----------------+-------------------+---------------+------------------+------------------+--------+-----------+----------+------------------+-----------------+\n",
      "only showing top 5 rows\n",
      "\n"
     ]
    }
   ],
   "source": [
    "df = spark.read.parquet('data/example.parquet')\n",
    "df.show(5)"
   ]
  }
 ],
 "metadata": {
  "kernelspec": {
   "display_name": ".venv",
   "language": "python",
   "name": "python3"
  },
  "language_info": {
   "codemirror_mode": {
    "name": "ipython",
    "version": 3
   },
   "file_extension": ".py",
   "mimetype": "text/x-python",
   "name": "python",
   "nbconvert_exporter": "python",
   "pygments_lexer": "ipython3",
   "version": "3.10.12"
  }
 },
 "nbformat": 4,
 "nbformat_minor": 2
}
