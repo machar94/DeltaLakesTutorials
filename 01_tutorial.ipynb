{
 "cells": [
  {
   "cell_type": "code",
   "execution_count": 1,
   "metadata": {},
   "outputs": [],
   "source": [
    "import pyspark"
   ]
  },
  {
   "cell_type": "code",
   "execution_count": 10,
   "metadata": {},
   "outputs": [],
   "source": [
    "import pandas as pd\n",
    "df_pd = pd.read_csv('data/QLine_Stops.csv')"
   ]
  },
  {
   "cell_type": "code",
   "execution_count": 4,
   "metadata": {},
   "outputs": [],
   "source": [
    "from pyspark.sql import SparkSession"
   ]
  },
  {
   "cell_type": "code",
   "execution_count": 5,
   "metadata": {},
   "outputs": [
    {
     "name": "stderr",
     "output_type": "stream",
     "text": [
      "23/11/22 13:04:54 WARN Utils: Your hostname, framework resolves to a loopback address: 127.0.1.1; using 192.168.0.49 instead (on interface wlp166s0)\n",
      "23/11/22 13:04:54 WARN Utils: Set SPARK_LOCAL_IP if you need to bind to another address\n",
      "Setting default log level to \"WARN\".\n",
      "To adjust logging level use sc.setLogLevel(newLevel). For SparkR, use setLogLevel(newLevel).\n",
      "23/11/22 13:04:55 WARN NativeCodeLoader: Unable to load native-hadoop library for your platform... using builtin-java classes where applicable\n"
     ]
    }
   ],
   "source": [
    "spark = SparkSession.builder.appName('Tutorial').getOrCreate()"
   ]
  },
  {
   "cell_type": "code",
   "execution_count": 6,
   "metadata": {},
   "outputs": [
    {
     "data": {
      "text/html": [
       "\n",
       "            <div>\n",
       "                <p><b>SparkSession - in-memory</b></p>\n",
       "                \n",
       "        <div>\n",
       "            <p><b>SparkContext</b></p>\n",
       "\n",
       "            <p><a href=\"http://192.168.0.49:4040\">Spark UI</a></p>\n",
       "\n",
       "            <dl>\n",
       "              <dt>Version</dt>\n",
       "                <dd><code>v3.5.0</code></dd>\n",
       "              <dt>Master</dt>\n",
       "                <dd><code>local[*]</code></dd>\n",
       "              <dt>AppName</dt>\n",
       "                <dd><code>Tutorial</code></dd>\n",
       "            </dl>\n",
       "        </div>\n",
       "        \n",
       "            </div>\n",
       "        "
      ],
      "text/plain": [
       "<pyspark.sql.session.SparkSession at 0x7fb1d82412d0>"
      ]
     },
     "execution_count": 6,
     "metadata": {},
     "output_type": "execute_result"
    }
   ],
   "source": [
    "spark"
   ]
  },
  {
   "cell_type": "code",
   "execution_count": 7,
   "metadata": {},
   "outputs": [],
   "source": [
    "df_pyspark = spark.read.option('header', 'true').csv('data/QLine_Stops.csv')"
   ]
  },
  {
   "cell_type": "code",
   "execution_count": 8,
   "metadata": {},
   "outputs": [
    {
     "name": "stdout",
     "output_type": "stream",
     "text": [
      "+---------+--------------------+--------------------+--------+\n",
      "|direction|            location|                name|objectid|\n",
      "+---------+--------------------+--------------------+--------+\n",
      "|     Both|Woodward and Gran...|  Grand Blvd Station|       1|\n",
      "|     Both|Woodward and Balt...|Baltimore St Station|       2|\n",
      "|     Both|Woodward and Amst...|   Amsterdam Station|       3|\n",
      "|    South|Woodward and W Ferry|       Ferry Station|       4|\n",
      "|    North|Woodward and E Ferry|       Ferry Station|       5|\n",
      "|    North|Woodward and E Wa...|      Warren Station|       6|\n",
      "|    South|Woodward and W Wa...|      Warren Station|       7|\n",
      "|    North|Woodward and E Ca...|    Canfield Station|       8|\n",
      "|    South|Woodward and W Ca...|    Canfield Station|       9|\n",
      "|    North|   Woodward and Mack|      MLK Jr Station|      10|\n",
      "|    South|Woodward and Mart...|      MLK Jr Station|      11|\n",
      "|    South| Woodward and Sproat|      Sproat Station|      12|\n",
      "|    North|Woodward and Adel...|    Adelaide Station|      13|\n",
      "|    South|Woodward and Gran...|Grand Circus Station|      14|\n",
      "|    North|Woodward and Gran...|Grand Circus Station|      15|\n",
      "|    South|Woodward and Mont...|     Foxtown Station|      16|\n",
      "|    North|Woodward and Mont...|     Foxtown Station|      17|\n",
      "|    South|      Campus Martius|Campus Martius St...|      18|\n",
      "|    North|      Campus Martius|Campus Martius St...|      19|\n",
      "|     Both|Woodward and Cong...|    Congress Station|      20|\n",
      "+---------+--------------------+--------------------+--------+\n",
      "\n"
     ]
    }
   ],
   "source": [
    "df_pyspark.show()"
   ]
  },
  {
   "cell_type": "code",
   "execution_count": 11,
   "metadata": {},
   "outputs": [
    {
     "name": "stdout",
     "output_type": "stream",
     "text": [
      "<class 'pyspark.sql.dataframe.DataFrame'>\n",
      "<class 'pandas.core.frame.DataFrame'>\n"
     ]
    }
   ],
   "source": [
    "print(type(df_pyspark))\n",
    "print(type(df_pd))"
   ]
  },
  {
   "cell_type": "code",
   "execution_count": 12,
   "metadata": {},
   "outputs": [
    {
     "name": "stdout",
     "output_type": "stream",
     "text": [
      "root\n",
      " |-- direction: string (nullable = true)\n",
      " |-- location: string (nullable = true)\n",
      " |-- name: string (nullable = true)\n",
      " |-- objectid: string (nullable = true)\n",
      "\n"
     ]
    }
   ],
   "source": [
    "df_pyspark.printSchema()"
   ]
  },
  {
   "cell_type": "code",
   "execution_count": null,
   "metadata": {},
   "outputs": [],
   "source": []
  }
 ],
 "metadata": {
  "kernelspec": {
   "display_name": ".venv",
   "language": "python",
   "name": "python3"
  },
  "language_info": {
   "codemirror_mode": {
    "name": "ipython",
    "version": 3
   },
   "file_extension": ".py",
   "mimetype": "text/x-python",
   "name": "python",
   "nbconvert_exporter": "python",
   "pygments_lexer": "ipython3",
   "version": "3.10.12"
  }
 },
 "nbformat": 4,
 "nbformat_minor": 2
}
