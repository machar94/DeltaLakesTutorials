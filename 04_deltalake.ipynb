{
 "cells": [
  {
   "cell_type": "code",
   "execution_count": 1,
   "metadata": {},
   "outputs": [],
   "source": [
    "import pyspark\n",
    "from delta import *"
   ]
  },
  {
   "cell_type": "code",
   "execution_count": 4,
   "metadata": {},
   "outputs": [
    {
     "name": "stdout",
     "output_type": "stream",
     "text": [
      "Hello, Spark version 3.5.0\n"
     ]
    }
   ],
   "source": [
    "# Create a Spark session with Delta extensions\n",
    "build = pyspark.sql.SparkSession.builder.appName(\"DeltaLake\") \\\n",
    "    .config(\"spark.sql.extensions\", \"io.delta.sql.DeltaSparkSessionExtension\") \\\n",
    "    .config(\"spark.sql.catalog.spark_catalog\", \"org.apache.spark.sql.delta.catalog.DeltaCatalog\")\n",
    "\n",
    "spark = configure_spark_with_delta_pip(build).getOrCreate()\n",
    "print(f\"Hello, Spark version {spark.version}\")"
   ]
  },
  {
   "cell_type": "code",
   "execution_count": 10,
   "metadata": {},
   "outputs": [
    {
     "name": "stderr",
     "output_type": "stream",
     "text": [
      "23/11/27 22:12:53 WARN MemoryManager: Total allocation exceeds 95.00% (1,020,054,720 bytes) of heap memory\n",
      "Scaling row group sizes to 95.00% for 8 writers\n",
      "23/11/27 22:12:53 WARN MemoryManager: Total allocation exceeds 95.00% (1,020,054,720 bytes) of heap memory\n",
      "Scaling row group sizes to 95.00% for 8 writers\n"
     ]
    }
   ],
   "source": [
    "# Create a range, and save it in Delta Lake format to ensure that your Delta\n",
    "# Lake extension is working\n",
    "\n",
    "df = spark.range(0, 100)\n",
    "df.write.format(\"delta\").mode(\"overwrite\").save(\"data/04_output.delta\")"
   ]
  },
  {
   "cell_type": "code",
   "execution_count": 9,
   "metadata": {},
   "outputs": [
    {
     "name": "stdout",
     "output_type": "stream",
     "text": [
      "The number of partitions is: 16\n"
     ]
    }
   ],
   "source": [
    "print(f\"The number of partitions is: {df.rdd.getNumPartitions()}\")"
   ]
  },
  {
   "cell_type": "code",
   "execution_count": 17,
   "metadata": {},
   "outputs": [
    {
     "name": "stderr",
     "output_type": "stream",
     "text": [
      "23/11/27 22:41:34 ERROR NonFateSharingFuture: Failed to get result from future  \n",
      "scala.runtime.NonLocalReturnControl\n"
     ]
    }
   ],
   "source": [
    "# Perform enough transactions to generate a checkpoint file\n",
    "\n",
    "for i in range(0, 10):\n",
    "    # Create a dataframe\n",
    "    df_row = spark.createDataFrame([pyspark.sql.Row(id=i)])\n",
    "\n",
    "    # Append to the Delta Lake table\n",
    "    df_row.write.format(\"delta\").mode(\"append\").save(\"data/04_output.delta\")\n"
   ]
  },
  {
   "cell_type": "code",
   "execution_count": 18,
   "metadata": {},
   "outputs": [],
   "source": [
    "df_checkpoint = spark.read.format(\"parquet\").load(\"data/04_output.delta/_delta_log/00000000000000000010.checkpoint.parquet\")"
   ]
  },
  {
   "cell_type": "code",
   "execution_count": 19,
   "metadata": {},
   "outputs": [
    {
     "name": "stdout",
     "output_type": "stream",
     "text": [
      "+----+--------------------+--------------------+--------+--------+--------------+\n",
      "| txn|                 add|              remove|metaData|protocol|domainMetadata|\n",
      "+----+--------------------+--------------------+--------+--------+--------------+\n",
      "|NULL|{part-00003-c510e...|                NULL|    NULL|    NULL|          NULL|\n",
      "|NULL|{part-00015-a9edd...|                NULL|    NULL|    NULL|          NULL|\n",
      "|NULL|{part-00015-2a4c0...|                NULL|    NULL|    NULL|          NULL|\n",
      "|NULL|{part-00000-c8a98...|                NULL|    NULL|    NULL|          NULL|\n",
      "|NULL|{part-00006-d38fb...|                NULL|    NULL|    NULL|          NULL|\n",
      "|NULL|{part-00015-3fce3...|                NULL|    NULL|    NULL|          NULL|\n",
      "|NULL|{part-00007-26778...|                NULL|    NULL|    NULL|          NULL|\n",
      "|NULL|                NULL|{part-00015-ad35d...|    NULL|    NULL|          NULL|\n",
      "|NULL|{part-00010-b1802...|                NULL|    NULL|    NULL|          NULL|\n",
      "|NULL|{part-00015-5c654...|                NULL|    NULL|    NULL|          NULL|\n",
      "|NULL|{part-00011-cbdf6...|                NULL|    NULL|    NULL|          NULL|\n",
      "|NULL|                NULL|{part-00014-0419e...|    NULL|    NULL|          NULL|\n",
      "|NULL|                NULL|{part-00011-4b5c5...|    NULL|    NULL|          NULL|\n",
      "|NULL|                NULL|{part-00001-36f95...|    NULL|    NULL|          NULL|\n",
      "|NULL|{part-00015-d3ad9...|                NULL|    NULL|    NULL|          NULL|\n",
      "|NULL|                NULL|{part-00012-63ca3...|    NULL|    NULL|          NULL|\n",
      "|NULL|                NULL|{part-00003-995b6...|    NULL|    NULL|          NULL|\n",
      "|NULL|{part-00015-e1a80...|                NULL|    NULL|    NULL|          NULL|\n",
      "|NULL|{part-00012-6be5b...|                NULL|    NULL|    NULL|          NULL|\n",
      "|NULL|{part-00014-73b87...|                NULL|    NULL|    NULL|          NULL|\n",
      "+----+--------------------+--------------------+--------+--------+--------------+\n",
      "only showing top 20 rows\n",
      "\n"
     ]
    }
   ],
   "source": [
    "df_checkpoint.show()"
   ]
  },
  {
   "cell_type": "code",
   "execution_count": null,
   "metadata": {},
   "outputs": [],
   "source": []
  }
 ],
 "metadata": {
  "kernelspec": {
   "display_name": ".venv",
   "language": "python",
   "name": "python3"
  },
  "language_info": {
   "codemirror_mode": {
    "name": "ipython",
    "version": 3
   },
   "file_extension": ".py",
   "mimetype": "text/x-python",
   "name": "python",
   "nbconvert_exporter": "python",
   "pygments_lexer": "ipython3",
   "version": "3.10.12"
  }
 },
 "nbformat": 4,
 "nbformat_minor": 2
}
