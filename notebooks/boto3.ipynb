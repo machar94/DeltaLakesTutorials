{
 "cells": [
  {
   "cell_type": "code",
   "execution_count": 2,
   "metadata": {},
   "outputs": [],
   "source": [
    "import boto3\n",
    "\n",
    "s3_resource = boto3.resource('s3')"
   ]
  },
  {
   "cell_type": "code",
   "execution_count": 2,
   "metadata": {},
   "outputs": [
    {
     "name": "stdout",
     "output_type": "stream",
     "text": [
      "madhav-fantasy-football\n",
      "madhav-glue-course\n"
     ]
    }
   ],
   "source": [
    "for bucket in s3_resource.buckets.all():\n",
    "    print(bucket.name)"
   ]
  },
  {
   "cell_type": "code",
   "execution_count": 6,
   "metadata": {},
   "outputs": [],
   "source": [
    "# Download a file from S3\n",
    "s3_resource.Object(\n",
    "    bucket_name='madhav-fantasy-football',\n",
    "    key='database/top_performers/top_performers_by_year.csv'\n",
    ").download_file('top_performers_by_year.csv')"
   ]
  },
  {
   "cell_type": "code",
   "execution_count": 7,
   "metadata": {},
   "outputs": [],
   "source": [
    "# Upload a file to S3\n",
    "s3_resource.Object(\n",
    "    bucket_name='madhav-fantasy-football',\n",
    "    key='database/top_performers/top_performers_by_year.csv.bk'\n",
    ").upload_file('./top_performers_by_year.csv')"
   ]
  },
  {
   "cell_type": "code",
   "execution_count": 1,
   "metadata": {},
   "outputs": [
    {
     "name": "stderr",
     "output_type": "stream",
     "text": [
      "23/12/02 19:42:21 WARN Utils: Your hostname, framework resolves to a loopback address: 127.0.1.1; using 10.0.0.72 instead (on interface wlp166s0)\n",
      "23/12/02 19:42:21 WARN Utils: Set SPARK_LOCAL_IP if you need to bind to another address\n"
     ]
    },
    {
     "name": "stdout",
     "output_type": "stream",
     "text": [
      ":: loading settings :: url = jar:file:/home/madhav/ws/pyspark-playground/.venv/lib/python3.10/site-packages/pyspark/jars/ivy-2.5.1.jar!/org/apache/ivy/core/settings/ivysettings.xml\n"
     ]
    },
    {
     "name": "stderr",
     "output_type": "stream",
     "text": [
      "Ivy Default Cache set to: /home/madhav/.ivy2/cache\n",
      "The jars for the packages stored in: /home/madhav/.ivy2/jars\n",
      "io.delta#delta-spark_2.12 added as a dependency\n",
      "org.apache.hadoop#hadoop-aws added as a dependency\n",
      ":: resolving dependencies :: org.apache.spark#spark-submit-parent-266ab025-d42b-4def-8af1-64ceb86155b6;1.0\n",
      "\tconfs: [default]\n",
      "\tfound io.delta#delta-spark_2.12;3.0.0 in central\n",
      "\tfound io.delta#delta-storage;3.0.0 in central\n",
      "\tfound org.antlr#antlr4-runtime;4.9.3 in central\n",
      "\tfound org.apache.hadoop#hadoop-aws;3.3.4 in central\n",
      "\tfound com.amazonaws#aws-java-sdk-bundle;1.12.262 in central\n",
      "\tfound org.wildfly.openssl#wildfly-openssl;1.0.7.Final in central\n",
      ":: resolution report :: resolve 162ms :: artifacts dl 6ms\n",
      "\t:: modules in use:\n",
      "\tcom.amazonaws#aws-java-sdk-bundle;1.12.262 from central in [default]\n",
      "\tio.delta#delta-spark_2.12;3.0.0 from central in [default]\n",
      "\tio.delta#delta-storage;3.0.0 from central in [default]\n",
      "\torg.antlr#antlr4-runtime;4.9.3 from central in [default]\n",
      "\torg.apache.hadoop#hadoop-aws;3.3.4 from central in [default]\n",
      "\torg.wildfly.openssl#wildfly-openssl;1.0.7.Final from central in [default]\n",
      "\t---------------------------------------------------------------------\n",
      "\t|                  |            modules            ||   artifacts   |\n",
      "\t|       conf       | number| search|dwnlded|evicted|| number|dwnlded|\n",
      "\t---------------------------------------------------------------------\n",
      "\t|      default     |   6   |   0   |   0   |   0   ||   6   |   0   |\n",
      "\t---------------------------------------------------------------------\n",
      ":: retrieving :: org.apache.spark#spark-submit-parent-266ab025-d42b-4def-8af1-64ceb86155b6\n",
      "\tconfs: [default]\n",
      "\t0 artifacts copied, 6 already retrieved (0kB/5ms)\n",
      "23/12/02 19:42:21 WARN NativeCodeLoader: Unable to load native-hadoop library for your platform... using builtin-java classes where applicable\n",
      "Setting default log level to \"WARN\".\n",
      "To adjust logging level use sc.setLogLevel(newLevel). For SparkR, use setLogLevel(newLevel).\n"
     ]
    }
   ],
   "source": [
    "import boto3\n",
    "\n",
    "from pyspark.sql import SparkSession\n",
    "from delta import *\n",
    "\n",
    "credentials = boto3.Session(profile_name='default').get_credentials()\n",
    "\n",
    "# To find the correct hadoop version run\n",
    "# spark._jvm.org.apache.hadoop.util.VersionInfo.getVersion()\n",
    "\n",
    "# Upload a delta lake file to S3\n",
    "builder = SparkSession.builder.appName('s3-upload') \\\n",
    "    .config('spark.jars.packages', 'org.apache.hadoop:hadoop-aws:3.3.4') \\\n",
    "    .config('spark.hadoop.fs.s3a.impl', 'org.apache.hadoop.fs.s3a.S3AFileSystem') \\\n",
    "    .config('spark.hadoop.fs.s3a.access.key', credentials.access_key) \\\n",
    "    .config('spark.hadoop.fs.s3a.secret.key', credentials.secret_key) \\\n",
    "    .config('spark.sql.extensions', 'io.delta.sql.DeltaSparkSessionExtension') \\\n",
    "    .config('spark.sql.catalog.spark_catalog', 'org.apache.spark.sql.delta.catalog.DeltaCatalog')\n",
    "\n",
    "# Extra package will be downloaded to ~/.ivy2/jars\n",
    "extra_packages = ['org.apache.hadoop:hadoop-aws:3.3.4']\n",
    "\n",
    "spark = configure_spark_with_delta_pip(builder, extra_packages=extra_packages).getOrCreate()"
   ]
  },
  {
   "cell_type": "code",
   "execution_count": 2,
   "metadata": {},
   "outputs": [
    {
     "name": "stderr",
     "output_type": "stream",
     "text": [
      "23/12/02 19:43:54 WARN MetricsConfig: Cannot locate configuration: tried hadoop-metrics2-s3a-file-system.properties,hadoop-metrics2.properties\n",
      "23/12/02 19:43:59 WARN SparkStringUtils: Truncated the string representation of a plan since it was too large. This behavior can be adjusted by setting 'spark.sql.debug.maxToStringFields'.\n",
      "                                                                                \r"
     ]
    },
    {
     "name": "stdout",
     "output_type": "stream",
     "text": [
      "+----+--------+----------------+------------------+\n",
      "|Year|Position|          Player|     FantasyPoints|\n",
      "+----+--------+----------------+------------------+\n",
      "|1999|      RB|    Emmitt Smith|             250.6|\n",
      "|1999|      RB|   Curtis Martin|             247.3|\n",
      "|1999|      RB|   Ricky Watters|             233.7|\n",
      "|1999|      RB|     Duce Staley|             225.7|\n",
      "|1999|      RB|    Corey Dillon|             212.0|\n",
      "|1999|      RB|     Terry Kirby|            208.08|\n",
      "|1999|      WR| Marvin Harrison|             351.7|\n",
      "|1999|      WR|     Jimmy Smith|             313.6|\n",
      "|1999|      WR|      Randy Moss|            294.68|\n",
      "|1999|      WR|     Cris Carter|             292.1|\n",
      "|1999|      WR| Marcus Robinson|             278.0|\n",
      "|1999|      WR|     Isaac Bruce|             268.7|\n",
      "|1999|      WR| Muhsin Muhammad|             267.3|\n",
      "|1999|      WR|       Tim Brown|260.79999999999995|\n",
      "|1999|      WR| Germane Crowell|             258.6|\n",
      "|1999|      WR|Keyshawn Johnson|             254.6|\n",
      "|1999|      WR| Patrick Jeffers|             244.8|\n",
      "|1999|      WR|   Rocket Ismail|             240.7|\n",
      "|2000|      QB|     Jeff Garcia|            338.52|\n",
      "|2000|      QB|Daunte Culpepper|            334.48|\n",
      "+----+--------+----------------+------------------+\n",
      "only showing top 20 rows\n",
      "\n"
     ]
    },
    {
     "name": "stderr",
     "output_type": "stream",
     "text": [
      "                                                                                \r"
     ]
    }
   ],
   "source": [
    "top_performers = spark.read.format('delta').load('s3a://madhav-fantasy-football/database/top_performers_delta')\n",
    "top_performers.show()"
   ]
  },
  {
   "cell_type": "code",
   "execution_count": 8,
   "metadata": {},
   "outputs": [
    {
     "name": "stdout",
     "output_type": "stream",
     "text": [
      "root\n",
      " |-- Year: long (nullable = true)\n",
      " |-- Position: string (nullable = true)\n",
      " |-- Player: string (nullable = true)\n",
      " |-- FantasyPoints: double (nullable = true)\n",
      "\n"
     ]
    },
    {
     "name": "stderr",
     "output_type": "stream",
     "text": [
      "[Stage 22:========================>                                (7 + 9) / 16]\r"
     ]
    },
    {
     "name": "stdout",
     "output_type": "stream",
     "text": [
      "+-------+------------------+--------+--------------+-----------------+\n",
      "|summary|              Year|Position|        Player|    FantasyPoints|\n",
      "+-------+------------------+--------+--------------+-----------------+\n",
      "|  count|              1764|    1764|          1764|             1764|\n",
      "|   mean|1995.4285714285713|    NULL|          NULL|245.3946825396825|\n",
      "| stddev|14.855858776545205|    NULL|          NULL|58.80884799652613|\n",
      "|    min|              1970|      QB|    A.J. Brown|            96.28|\n",
      "|    max|              2020|      WR|Yancey Thigpen|            481.1|\n",
      "+-------+------------------+--------+--------------+-----------------+\n",
      "\n"
     ]
    },
    {
     "name": "stderr",
     "output_type": "stream",
     "text": [
      "                                                                                \r"
     ]
    }
   ],
   "source": [
    "top_performers.printSchema()\n",
    "top_performers.describe().show()"
   ]
  },
  {
   "cell_type": "code",
   "execution_count": 10,
   "metadata": {},
   "outputs": [
    {
     "name": "stdout",
     "output_type": "stream",
     "text": [
      "+----+--------+------+-------------+\n",
      "|Year|Position|Player|FantasyPoints|\n",
      "+----+--------+------+-------------+\n",
      "+----+--------+------+-------------+\n",
      "\n"
     ]
    }
   ],
   "source": [
    "# Create an empty dataframe and save it to top_performers_delta\n",
    "top_performers = spark.createDataFrame([], top_performers.schema)\n",
    "top_performers.show()"
   ]
  },
  {
   "cell_type": "code",
   "execution_count": null,
   "metadata": {},
   "outputs": [],
   "source": [
    "# Another way to return an empty dataframe with the same schema\n",
    "# top_performers.limit(0)"
   ]
  },
  {
   "cell_type": "code",
   "execution_count": 11,
   "metadata": {},
   "outputs": [
    {
     "name": "stderr",
     "output_type": "stream",
     "text": [
      "                                                                                \r"
     ]
    }
   ],
   "source": [
    "# Write the dataframe back to S3\n",
    "top_performers.write.format('delta').mode('overwrite').save('s3a://madhav-fantasy-football/database/top_performers_delta')"
   ]
  },
  {
   "cell_type": "code",
   "execution_count": 12,
   "metadata": {},
   "outputs": [],
   "source": [
    "# Check that the dataframe is truly empty by reading it one more time\n",
    "top_performers = spark.read.format('delta').load('s3a://madhav-fantasy-football/database/top_performers_delta')"
   ]
  },
  {
   "cell_type": "code",
   "execution_count": 13,
   "metadata": {},
   "outputs": [
    {
     "name": "stdout",
     "output_type": "stream",
     "text": [
      "+----+--------+------+-------------+\n",
      "|Year|Position|Player|FantasyPoints|\n",
      "+----+--------+------+-------------+\n",
      "+----+--------+------+-------------+\n",
      "\n"
     ]
    }
   ],
   "source": [
    "top_performers.show()"
   ]
  },
  {
   "cell_type": "code",
   "execution_count": null,
   "metadata": {},
   "outputs": [],
   "source": []
  }
 ],
 "metadata": {
  "kernelspec": {
   "display_name": ".venv",
   "language": "python",
   "name": "python3"
  },
  "language_info": {
   "codemirror_mode": {
    "name": "ipython",
    "version": 3
   },
   "file_extension": ".py",
   "mimetype": "text/x-python",
   "name": "python",
   "nbconvert_exporter": "python",
   "pygments_lexer": "ipython3",
   "version": "3.10.12"
  }
 },
 "nbformat": 4,
 "nbformat_minor": 2
}
