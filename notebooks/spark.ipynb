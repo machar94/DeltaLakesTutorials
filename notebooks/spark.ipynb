{
 "cells": [
  {
   "cell_type": "code",
   "execution_count": 1,
   "metadata": {},
   "outputs": [
    {
     "name": "stdout",
     "output_type": "stream",
     "text": [
      "Welcome to the Glue Interactive Sessions Kernel\n",
      "For more information on available magic commands, please type %help in any new cell.\n",
      "\n",
      "Please view our Getting Started page to access the most up-to-date information on the Interactive Sessions kernel: https://docs.aws.amazon.com/glue/latest/dg/interactive-sessions.html\n",
      "Trying to create a Glue session for the kernel.\n",
      "Session Type: etl\n",
      "Worker Type: G.1X\n",
      "Number of Workers: 5\n",
      "Session ID: 8cfd1902-9daa-4394-895d-98e9cd4ac480\n",
      "Applying the following default arguments:\n",
      "--glue_kernel_version 1.0.4\n",
      "--enable-glue-datacatalog true\n",
      "Waiting for session 8cfd1902-9daa-4394-895d-98e9cd4ac480 to get into ready status...\n",
      "Session 8cfd1902-9daa-4394-895d-98e9cd4ac480 has been created.\n",
      "\n"
     ]
    }
   ],
   "source": [
    "# Setup a Spark Context\n",
    "from pyspark.sql import SparkSession\n",
    "from pyspark.sql.functions import lit\n",
    "\n",
    "spark = SparkSession.builder \\\n",
    "    .appName(\"Spark\") \\\n",
    "    .master(\"local[*]\") \\\n",
    "    .getOrCreate()"
   ]
  },
  {
   "cell_type": "code",
   "execution_count": null,
   "metadata": {},
   "outputs": [],
   "source": [
    "# Read from a csv file\n",
    "df = spark.read.csv(\"data/1970.csv\", header=True, inferSchema=True)\n",
    "\n",
    "# Return rows containing QB in player column\n",
    "df_qb = df.filter(df.Pos.contains(\"QB\")).orderBy(\n",
    "    'FantasyPoints', ascending=False).select('Pos', 'Player', 'FantasyPoints').limit(12)\n",
    "df_qb = df_qb.withColumn(\"Year\", lit(1970))\n",
    "\n",
    "df_rb = df.filter(df.Pos.contains(\"RB\")).orderBy(\n",
    "    'FantasyPoints', ascending=False).select('Pos', 'Player', 'FantasyPoints').limit(12)\n",
    "df_rb = df_rb.withColumn(\"Year\", lit(1970))\n",
    "\n",
    "df_wr = df.filter(df.Pos.contains(\"WR\")).orderBy(\n",
    "    'FantasyPoints', ascending=False).select('Pos', 'Player', 'FantasyPoints').limit(12)\n",
    "df_wr = df_wr.withColumn(\"Year\", lit(1970))\n",
    "\n",
    "df_csv = df_qb.union(df_rb).union(df_wr)\n",
    "df_csv = df_csv.withColumnRenamed(\"Pos\", \"Position\")\n",
    "df_csv = df_csv.select(\"Year\", \"Position\", \"Player\", \"FantasyPoints\")"
   ]
  },
  {
   "cell_type": "code",
   "execution_count": null,
   "metadata": {},
   "outputs": [],
   "source": [
    "df_csv.show(40)"
   ]
  },
  {
   "cell_type": "code",
   "execution_count": 3,
   "metadata": {},
   "outputs": [
    {
     "name": "stderr",
     "output_type": "stream",
     "text": [
      "Entity not found\n",
      "Exception encountered while retrieving session: An error occurred (EntityNotFoundException) when calling the GetSession operation: Session b65b0119-9475-4ddb-81ed-56aeaba95b9e not found. \n",
      "Traceback (most recent call last):\n",
      "  File \"/home/madhav/ws/pyspark-playground/.venv/lib/python3.10/site-packages/aws_glue_interactive_sessions_kernel/glue_kernel_base/BaseKernel.py\", line 739, in get_current_session\n",
      "    current_session = self.kernel_gateway.get_session(self.get_session_id())[\"Session\"]\n",
      "  File \"/home/madhav/ws/pyspark-playground/.venv/lib/python3.10/site-packages/aws_glue_interactive_sessions_kernel/glue_kernel_utils/KernelGateway.py\", line 188, in get_session\n",
      "    return self.glue_client.get_session(Id=session_id)\n",
      "  File \"/home/madhav/ws/pyspark-playground/.venv/lib/python3.10/site-packages/botocore/client.py\", line 553, in _api_call\n",
      "    return self._make_api_call(operation_name, kwargs)\n",
      "  File \"/home/madhav/ws/pyspark-playground/.venv/lib/python3.10/site-packages/botocore/client.py\", line 1009, in _make_api_call\n",
      "    raise error_class(parsed_response, operation_name)\n",
      "botocore.errorfactory.EntityNotFoundException: An error occurred (EntityNotFoundException) when calling the GetSession operation: Session b65b0119-9475-4ddb-81ed-56aeaba95b9e not found.\n",
      "Failed to retrieve session status \n"
     ]
    }
   ],
   "source": [
    "sc.stop()"
   ]
  }
 ],
 "metadata": {
  "kernelspec": {
   "display_name": "Glue PySpark",
   "language": "python",
   "name": "glue_pyspark"
  }
 },
 "nbformat": 4,
 "nbformat_minor": 2
}
